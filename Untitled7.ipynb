{
  "nbformat": 4,
  "nbformat_minor": 0,
  "metadata": {
    "colab": {
      "provenance": [],
      "authorship_tag": "ABX9TyNVm/xbMljmNnRm0eqzCeLs",
      "include_colab_link": true
    },
    "kernelspec": {
      "name": "python3",
      "display_name": "Python 3"
    },
    "language_info": {
      "name": "python"
    }
  },
  "cells": [
    {
      "cell_type": "markdown",
      "metadata": {
        "id": "view-in-github",
        "colab_type": "text"
      },
      "source": [
        "<a href=\"https://colab.research.google.com/github/pulagumsaii/FML/blob/main/Untitled7.ipynb\" target=\"_parent\"><img src=\"https://colab.research.google.com/assets/colab-badge.svg\" alt=\"Open In Colab\"/></a>"
      ]
    },
    {
      "cell_type": "code",
      "execution_count": 26,
      "metadata": {
        "colab": {
          "base_uri": "https://localhost:8080/"
        },
        "id": "8S0GPczWOU2c",
        "outputId": "32804d67-dbf6-4b12-9df0-e6b21903bade"
      },
      "outputs": [
        {
          "output_type": "stream",
          "name": "stdout",
          "text": [
            "hi this is sai!\n",
            "hi this is sai\n"
          ]
        }
      ],
      "source": [
        "import string\n",
        "r_p=string.punctuation\n",
        "matter=\"hi this is sai!\"\n",
        "newempty=''\n",
        "for i in matter:\n",
        "  if i not in r_p:\n",
        "    newempty+=i\n",
        "print(matter)\n",
        "print(newempty)"
      ]
    }
  ]
}